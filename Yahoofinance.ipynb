{
 "cells": [
  {
   "cell_type": "code",
   "execution_count": 4,
   "id": "5786b52b-5336-4b75-85a0-471a718ad3fa",
   "metadata": {},
   "outputs": [
    {
     "name": "stdout",
     "output_type": "stream",
     "text": [
      "Collecting package metadata (current_repodata.json): done\n",
      "Solving environment: done\n",
      "\n",
      "\n",
      "==> WARNING: A newer version of conda exists. <==\n",
      "  current version: 22.9.0\n",
      "  latest version: 23.1.0\n",
      "\n",
      "Please update conda by running\n",
      "\n",
      "    $ conda update -n base -c defaults conda\n",
      "\n",
      "\n",
      "\n",
      "## Package Plan ##\n",
      "\n",
      "  environment location: /Users/alejandrareyes/opt/anaconda3\n",
      "\n",
      "  added / updated specs:\n",
      "    - yfinance\n",
      "\n",
      "\n",
      "The following packages will be downloaded:\n",
      "\n",
      "    package                    |            build\n",
      "    ---------------------------|-----------------\n",
      "    conda-23.1.0               |   py39h6e9494a_0         908 KB  conda-forge\n",
      "    frozendict-2.3.5           |   py39ha30fb19_0          40 KB  conda-forge\n",
      "    html5lib-1.1               |     pyh9f0ad1d_0          89 KB  conda-forge\n",
      "    multitasking-0.0.9         |     pyhd8ed1ab_0          12 KB  conda-forge\n",
      "    python_abi-3.9             |           2_cp39           4 KB  conda-forge\n",
      "    ruamel.yaml-0.17.21        |   py39ha30fb19_3         183 KB  conda-forge\n",
      "    ruamel.yaml.clib-0.2.7     |   py39ha30fb19_1         118 KB  conda-forge\n",
      "    yfinance-0.2.12            |     pyhd8ed1ab_0          51 KB  conda-forge\n",
      "    ------------------------------------------------------------\n",
      "                                           Total:         1.4 MB\n",
      "\n",
      "The following NEW packages will be INSTALLED:\n",
      "\n",
      "  frozendict         conda-forge/osx-64::frozendict-2.3.5-py39ha30fb19_0 None\n",
      "  html5lib           conda-forge/noarch::html5lib-1.1-pyh9f0ad1d_0 None\n",
      "  multitasking       conda-forge/noarch::multitasking-0.0.9-pyhd8ed1ab_0 None\n",
      "  python_abi         conda-forge/osx-64::python_abi-3.9-2_cp39 None\n",
      "  ruamel.yaml        conda-forge/osx-64::ruamel.yaml-0.17.21-py39ha30fb19_3 None\n",
      "  ruamel.yaml.clib   conda-forge/osx-64::ruamel.yaml.clib-0.2.7-py39ha30fb19_1 None\n",
      "  yfinance           conda-forge/noarch::yfinance-0.2.12-pyhd8ed1ab_0 None\n",
      "\n",
      "The following packages will be UPDATED:\n",
      "\n",
      "  conda              pkgs/main::conda-22.9.0-py39hecd8cb5_0 --> conda-forge::conda-23.1.0-py39h6e9494a_0 None\n",
      "\n",
      "\n",
      "\n",
      "Downloading and Extracting Packages\n",
      "ruamel.yaml.clib-0.2 | 118 KB    | ##################################### | 100% \n",
      "yfinance-0.2.12      | 51 KB     | ##################################### | 100% \n",
      "html5lib-1.1         | 89 KB     | ##################################### | 100% \n",
      "multitasking-0.0.9   | 12 KB     | ##################################### | 100% \n",
      "frozendict-2.3.5     | 40 KB     | ##################################### | 100% \n",
      "conda-23.1.0         | 908 KB    | ##################################### | 100% \n",
      "python_abi-3.9       | 4 KB      | ##################################### | 100% \n",
      "ruamel.yaml-0.17.21  | 183 KB    | ##################################### | 100% \n",
      "Preparing transaction: done\n",
      "Verifying transaction: done\n",
      "Executing transaction: done\n",
      "Retrieving notices: ...working... done\n",
      "\n",
      "Note: you may need to restart the kernel to use updated packages.\n"
     ]
    }
   ],
   "source": [
    "conda install -c conda-forge yfinance\n"
   ]
  },
  {
   "cell_type": "code",
   "execution_count": null,
   "id": "44e9098f-da9a-471e-83bb-5050b03efc03",
   "metadata": {},
   "outputs": [],
   "source": []
  },
  {
   "cell_type": "code",
   "execution_count": 5,
   "id": "75380b59-1d7d-4ade-a17e-8ca5e0d42776",
   "metadata": {},
   "outputs": [
    {
     "name": "stdout",
     "output_type": "stream",
     "text": [
      "Collecting yahoo.fin\n",
      "  Downloading yahoo_fin-0.8.9.1-py3-none-any.whl (10 kB)\n",
      "Collecting feedparser\n",
      "  Downloading feedparser-6.0.10-py3-none-any.whl (81 kB)\n",
      "\u001b[2K     \u001b[90m━━━━━━━━━━━━━━━━━━━━━━━━━━━━━━━━━━━━━━━━\u001b[0m \u001b[32m81.1/81.1 kB\u001b[0m \u001b[31m1.6 MB/s\u001b[0m eta \u001b[36m0:00:00\u001b[0ma \u001b[36m0:00:01\u001b[0m\n",
      "\u001b[?25hCollecting requests-html\n",
      "  Downloading requests_html-0.10.0-py3-none-any.whl (13 kB)\n",
      "Requirement already satisfied: pandas in ./opt/anaconda3/lib/python3.9/site-packages (from yahoo.fin) (1.4.4)\n",
      "Requirement already satisfied: requests in ./opt/anaconda3/lib/python3.9/site-packages (from yahoo.fin) (2.28.1)\n",
      "Collecting sgmllib3k\n",
      "  Downloading sgmllib3k-1.0.0.tar.gz (5.8 kB)\n",
      "  Preparing metadata (setup.py) ... \u001b[?25ldone\n",
      "\u001b[?25hRequirement already satisfied: python-dateutil>=2.8.1 in ./opt/anaconda3/lib/python3.9/site-packages (from pandas->yahoo.fin) (2.8.2)\n",
      "Requirement already satisfied: pytz>=2020.1 in ./opt/anaconda3/lib/python3.9/site-packages (from pandas->yahoo.fin) (2022.1)\n",
      "Requirement already satisfied: numpy>=1.18.5 in ./opt/anaconda3/lib/python3.9/site-packages (from pandas->yahoo.fin) (1.21.5)\n",
      "Requirement already satisfied: charset-normalizer<3,>=2 in ./opt/anaconda3/lib/python3.9/site-packages (from requests->yahoo.fin) (2.0.4)\n",
      "Requirement already satisfied: urllib3<1.27,>=1.21.1 in ./opt/anaconda3/lib/python3.9/site-packages (from requests->yahoo.fin) (1.26.11)\n",
      "Requirement already satisfied: idna<4,>=2.5 in ./opt/anaconda3/lib/python3.9/site-packages (from requests->yahoo.fin) (3.3)\n",
      "Requirement already satisfied: certifi>=2017.4.17 in ./opt/anaconda3/lib/python3.9/site-packages (from requests->yahoo.fin) (2022.9.24)\n",
      "Requirement already satisfied: w3lib in ./opt/anaconda3/lib/python3.9/site-packages (from requests-html->yahoo.fin) (1.21.0)\n",
      "Collecting bs4\n",
      "  Downloading bs4-0.0.1.tar.gz (1.1 kB)\n",
      "  Preparing metadata (setup.py) ... \u001b[?25ldone\n",
      "\u001b[?25hCollecting pyppeteer>=0.0.14\n",
      "  Downloading pyppeteer-1.0.2-py3-none-any.whl (83 kB)\n",
      "\u001b[2K     \u001b[90m━━━━━━━━━━━━━━━━━━━━━━━━━━━━━━━━━━━━━━━━\u001b[0m \u001b[32m83.4/83.4 kB\u001b[0m \u001b[31m3.4 MB/s\u001b[0m eta \u001b[36m0:00:00\u001b[0m\n",
      "\u001b[?25hCollecting fake-useragent\n",
      "  Downloading fake_useragent-1.1.1-py3-none-any.whl (50 kB)\n",
      "\u001b[2K     \u001b[90m━━━━━━━━━━━━━━━━━━━━━━━━━━━━━━━━━━━━━━━━\u001b[0m \u001b[32m50.4/50.4 kB\u001b[0m \u001b[31m1.8 MB/s\u001b[0m eta \u001b[36m0:00:00\u001b[0m\n",
      "\u001b[?25hCollecting parse\n",
      "  Downloading parse-1.19.0.tar.gz (30 kB)\n",
      "  Preparing metadata (setup.py) ... \u001b[?25ldone\n",
      "\u001b[?25hCollecting pyquery\n",
      "  Downloading pyquery-2.0.0-py3-none-any.whl (22 kB)\n",
      "Collecting websockets<11.0,>=10.0\n",
      "  Downloading websockets-10.4-cp39-cp39-macosx_10_9_x86_64.whl (97 kB)\n",
      "\u001b[2K     \u001b[90m━━━━━━━━━━━━━━━━━━━━━━━━━━━━━━━━━━━━━━━━\u001b[0m \u001b[32m97.9/97.9 kB\u001b[0m \u001b[31m4.1 MB/s\u001b[0m eta \u001b[36m0:00:00\u001b[0m\n",
      "\u001b[?25hCollecting pyee<9.0.0,>=8.1.0\n",
      "  Downloading pyee-8.2.2-py2.py3-none-any.whl (12 kB)\n",
      "Requirement already satisfied: appdirs<2.0.0,>=1.4.3 in ./opt/anaconda3/lib/python3.9/site-packages (from pyppeteer>=0.0.14->requests-html->yahoo.fin) (1.4.4)\n",
      "Requirement already satisfied: importlib-metadata>=1.4 in ./opt/anaconda3/lib/python3.9/site-packages (from pyppeteer>=0.0.14->requests-html->yahoo.fin) (4.11.3)\n",
      "Requirement already satisfied: tqdm<5.0.0,>=4.42.1 in ./opt/anaconda3/lib/python3.9/site-packages (from pyppeteer>=0.0.14->requests-html->yahoo.fin) (4.64.1)\n",
      "Requirement already satisfied: six>=1.5 in ./opt/anaconda3/lib/python3.9/site-packages (from python-dateutil>=2.8.1->pandas->yahoo.fin) (1.16.0)\n",
      "Requirement already satisfied: beautifulsoup4 in ./opt/anaconda3/lib/python3.9/site-packages (from bs4->requests-html->yahoo.fin) (4.11.1)\n",
      "Collecting importlib-resources>=5.0\n",
      "  Downloading importlib_resources-5.12.0-py3-none-any.whl (36 kB)\n",
      "Requirement already satisfied: lxml>=2.1 in ./opt/anaconda3/lib/python3.9/site-packages (from pyquery->requests-html->yahoo.fin) (4.9.1)\n",
      "Collecting cssselect>=1.2.0\n",
      "  Downloading cssselect-1.2.0-py2.py3-none-any.whl (18 kB)\n",
      "Requirement already satisfied: zipp>=0.5 in ./opt/anaconda3/lib/python3.9/site-packages (from importlib-metadata>=1.4->pyppeteer>=0.0.14->requests-html->yahoo.fin) (3.8.0)\n",
      "Requirement already satisfied: soupsieve>1.2 in ./opt/anaconda3/lib/python3.9/site-packages (from beautifulsoup4->bs4->requests-html->yahoo.fin) (2.3.1)\n",
      "Building wheels for collected packages: bs4, parse, sgmllib3k\n",
      "  Building wheel for bs4 (setup.py) ... \u001b[?25ldone\n",
      "\u001b[?25h  Created wheel for bs4: filename=bs4-0.0.1-py3-none-any.whl size=1257 sha256=d6be1e5518c3d74bbe0e91b995d06d52d8a97a172b239806f44199ceca94fbef\n",
      "  Stored in directory: /Users/alejandrareyes/Library/Caches/pip/wheels/73/2b/cb/099980278a0c9a3e57ff1a89875ec07bfa0b6fcbebb9a8cad3\n",
      "  Building wheel for parse (setup.py) ... \u001b[?25ldone\n",
      "\u001b[?25h  Created wheel for parse: filename=parse-1.19.0-py3-none-any.whl size=24571 sha256=36a1a883ea920d5fcfb72f03cb2f217bab95b8fc045bea7e6bf9348602d44271\n",
      "  Stored in directory: /Users/alejandrareyes/Library/Caches/pip/wheels/d6/9c/58/ee3ba36897e890f3ad81e9b730791a153fce20caa4a8a474df\n",
      "  Building wheel for sgmllib3k (setup.py) ... \u001b[?25ldone\n",
      "\u001b[?25h  Created wheel for sgmllib3k: filename=sgmllib3k-1.0.0-py3-none-any.whl size=6048 sha256=127f8e0c6a11c8a2b495a8e9b6e8a5abe6ac30d3a8e57008feecd786c4723876\n",
      "  Stored in directory: /Users/alejandrareyes/Library/Caches/pip/wheels/65/7a/a7/78c287f64e401255dff4c13fdbc672fed5efbfd21c530114e1\n",
      "Successfully built bs4 parse sgmllib3k\n",
      "Installing collected packages: sgmllib3k, pyee, parse, websockets, importlib-resources, feedparser, cssselect, pyquery, pyppeteer, fake-useragent, bs4, requests-html, yahoo.fin\n",
      "  Attempting uninstall: cssselect\n",
      "    Found existing installation: cssselect 1.1.0\n",
      "    Uninstalling cssselect-1.1.0:\n",
      "      Successfully uninstalled cssselect-1.1.0\n",
      "Successfully installed bs4-0.0.1 cssselect-1.2.0 fake-useragent-1.1.1 feedparser-6.0.10 importlib-resources-5.12.0 parse-1.19.0 pyee-8.2.2 pyppeteer-1.0.2 pyquery-2.0.0 requests-html-0.10.0 sgmllib3k-1.0.0 websockets-10.4 yahoo.fin-0.8.9.1\n",
      "Note: you may need to restart the kernel to use updated packages.\n"
     ]
    }
   ],
   "source": [
    "pip install yahoo.fin"
   ]
  },
  {
   "cell_type": "code",
   "execution_count": 6,
   "id": "2db75ad5-64f7-4414-8385-3a4cab964374",
   "metadata": {},
   "outputs": [
    {
     "name": "stdout",
     "output_type": "stream",
     "text": [
      "Requirement already satisfied: matplotlib in ./opt/anaconda3/lib/python3.9/site-packages (3.5.2)\n",
      "Requirement already satisfied: cycler>=0.10 in ./opt/anaconda3/lib/python3.9/site-packages (from matplotlib) (0.11.0)\n",
      "Requirement already satisfied: numpy>=1.17 in ./opt/anaconda3/lib/python3.9/site-packages (from matplotlib) (1.21.5)\n",
      "Requirement already satisfied: kiwisolver>=1.0.1 in ./opt/anaconda3/lib/python3.9/site-packages (from matplotlib) (1.4.2)\n",
      "Requirement already satisfied: pyparsing>=2.2.1 in ./opt/anaconda3/lib/python3.9/site-packages (from matplotlib) (3.0.9)\n",
      "Requirement already satisfied: packaging>=20.0 in ./opt/anaconda3/lib/python3.9/site-packages (from matplotlib) (21.3)\n",
      "Requirement already satisfied: python-dateutil>=2.7 in ./opt/anaconda3/lib/python3.9/site-packages (from matplotlib) (2.8.2)\n",
      "Requirement already satisfied: pillow>=6.2.0 in ./opt/anaconda3/lib/python3.9/site-packages (from matplotlib) (9.2.0)\n",
      "Requirement already satisfied: fonttools>=4.22.0 in ./opt/anaconda3/lib/python3.9/site-packages (from matplotlib) (4.25.0)\n",
      "Requirement already satisfied: six>=1.5 in ./opt/anaconda3/lib/python3.9/site-packages (from python-dateutil>=2.7->matplotlib) (1.16.0)\n",
      "Note: you may need to restart the kernel to use updated packages.\n"
     ]
    }
   ],
   "source": [
    "pip install matplotlib"
   ]
  },
  {
   "cell_type": "code",
   "execution_count": 5,
   "id": "d822ef23-eb08-4edd-9100-55b83724faa5",
   "metadata": {},
   "outputs": [],
   "source": [
    "import yfinance as yf\n",
    "from yahoo_fin import stock_info as si\n",
    "import matplotlib.pyplot as plt\n",
    "import matplotlib.colors as mcolors\n",
    "\n",
    "plt.style.use(\"dark_background\")"
   ]
  },
  {
   "cell_type": "code",
   "execution_count": 6,
   "id": "e88d166c-b9a8-4009-b467-142bbdb8c3d6",
   "metadata": {
    "tags": []
   },
   "outputs": [],
   "source": [
    "stocks = ['AAPL', 'META', 'TSLA', 'MSFT','ABBV']"
   ]
  },
  {
   "cell_type": "code",
   "execution_count": 7,
   "id": "bc802170-0854-49e6-821f-9083171b839f",
   "metadata": {},
   "outputs": [
    {
     "name": "stdout",
     "output_type": "stream",
     "text": [
      "5\n",
      "5\n"
     ]
    }
   ],
   "source": [
    "amounts = [20, 15, 20, 60, 50]\n",
    "\n",
    "print(len(stocks))\n",
    "print(len(amounts))"
   ]
  },
  {
   "cell_type": "code",
   "execution_count": 9,
   "id": "7d604694-731c-4478-9145-9f62d2fcbc44",
   "metadata": {},
   "outputs": [],
   "source": [
    "values = [si.get_live_price(stocks[i]) * amounts[i] for i in range(len(stocks))]"
   ]
  },
  {
   "cell_type": "code",
   "execution_count": null,
   "id": "8e3e4922-2db0-4574-9080-9984176002f3",
   "metadata": {},
   "outputs": [],
   "source": [
    "sectors= [yf.ticker(x).get_info()['industry'] for x in stocks]\n",
    "countries= [yf.ticker(x).get_info()['country'] for x in stocks]\n",
    "market_caps= [yf.ticker(x).get_info()['marketCap'] for x in stocks]"
   ]
  },
  {
   "cell_type": "code",
   "execution_count": null,
   "id": "f71e503f-b30a-44fe-a868-8622a304af2e",
   "metadata": {},
   "outputs": [],
   "source": [
    "cash = 4000\n"
   ]
  },
  {
   "cell_type": "code",
   "execution_count": null,
   "id": "05c95056-dcc3-4522-ac93-9e2a4ce0a4c3",
   "metadata": {},
   "outputs": [],
   "source": [
    "etfs = ['IVV','XWD.TO']\n",
    "etf_amounts = [30,20]\n",
    "etf_values =[si.get_live_price(etfs[i]) * etf_amounts[i] for i in range(len(etfs))"
   ]
  },
  {
   "cell_type": "code",
   "execution_count": null,
   "id": "001ad8a9-51d6-447e-8580-f60075ab9ab4",
   "metadata": {},
   "outputs": [],
   "source": [
    "etf_values"
   ]
  },
  {
   "cell_type": "code",
   "execution_count": null,
   "id": "3bae1530-9cb2-4634-8fec-c43d8b761df7",
   "metadata": {},
   "outputs": [],
   "source": [
    "cryptos = ['ETH-USD','BTC-USD']\n",
    "cryptos_amounts = [0.89,0.34]\n",
    "crypto_values = [si.get_live_price(cryptos[i]) * etf_amounts[i] for i in range(len(cryptovs))\n",
    "                 \n",
    "general_dist = {'Stocks':sum(values),\n",
    "                'ETFs': sum(etf_values),\n",
    "                'Cryptos': sum(crypto_values),\n",
    "                'Cash': cash\n",
    "               }\n",
    "sector_dist = {}\n",
    "for i in range(len(sectors)):\n",
    "    if sectors[i] not in sector_dist.keys():\n",
    "        sector_dist[sectors[i]] = 0\n",
    "    sector_dist[sectors[i]] += values[i]"
   ]
  }
 ],
 "metadata": {
  "kernelspec": {
   "display_name": "Python 3 (ipykernel)",
   "language": "python",
   "name": "python3"
  },
  "language_info": {
   "codemirror_mode": {
    "name": "ipython",
    "version": 3
   },
   "file_extension": ".py",
   "mimetype": "text/x-python",
   "name": "python",
   "nbconvert_exporter": "python",
   "pygments_lexer": "ipython3",
   "version": "3.9.13"
  }
 },
 "nbformat": 4,
 "nbformat_minor": 5
}
